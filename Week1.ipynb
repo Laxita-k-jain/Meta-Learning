{
  "nbformat": 4,
  "nbformat_minor": 0,
  "metadata": {
    "colab": {
      "name": "Week1.ipynb",
      "provenance": [],
      "include_colab_link": true
    },
    "kernelspec": {
      "name": "python3",
      "display_name": "Python 3"
    },
    "language_info": {
      "name": "python"
    }
  },
  "cells": [
    {
      "cell_type": "markdown",
      "metadata": {
        "id": "view-in-github",
        "colab_type": "text"
      },
      "source": [
        "<a href=\"https://colab.research.google.com/github/Laxita-k-jain/Meta-Learning/blob/main/Week1.ipynb\" target=\"_parent\"><img src=\"https://colab.research.google.com/assets/colab-badge.svg\" alt=\"Open In Colab\"/></a>"
      ]
    },
    {
      "cell_type": "markdown",
      "metadata": {
        "id": "0SAqhmBTlljm"
      },
      "source": [
        "# Week 1"
      ]
    },
    {
      "cell_type": "markdown",
      "metadata": {
        "id": "8rN8nuKql-Wr"
      },
      "source": [
        "## Objectives\n",
        "The Objectives of this week are mainly learning and getting familiar with python and important modules for the purpose of Data Analysis and Machine Learning. We shall cover three main modules in this week. \n",
        "1. **NumPy** : The computing module. It eases various common algebraic operations such as matrix/vector multiplication, inverse, powers, calculating mean, variance, etc. \n",
        "2. **Scipy** : This as the name suggests is the scientific module. It eases operations such as calculating derivatives of functions, scaling and normalization. \n",
        "3. **MatPlotLib** : The plotting module. This helps us to plot various types of plots, histograms, line charts and many more. "
      ]
    },
    {
      "cell_type": "markdown",
      "metadata": {
        "id": "pcp2aom4vWO6"
      },
      "source": [
        "## Problems"
      ]
    },
    {
      "cell_type": "markdown",
      "metadata": {
        "id": "m2_S1MkdWbV8"
      },
      "source": [
        "Consider a matrix of size 100x50. Initially all the entries in the matrix are 0's. Then **two random** entries in the matrix are set to 1. Now we perform the following steps till all the entries of the matrix have not become 1's : \n",
        "1. take **any four random positions** in the matrix and swap them with four other random positions in the matrix. \n",
        "2. Now for all the entries in the matrix which are 1's each of it's neighbors has a **0.25 probability** of becoming 1.\n",
        "\n",
        "Count the number of iterations it takes for the process to terminate.\n",
        "Plot a curve of number of 1's in a matrix vs the iteration count.  \n",
        "Repeat this process multiple times and check the number of iterations each time. \n",
        "Submission format : Download the python notebook as a python file. Download all the graphs mentioned here. Create a text file reporting the number of iterations for each run. Submit all this in a single directory. \n",
        "\n",
        "**Point to ponder** : Does this look like a very simple simulation to the COVID pandemic?\n",
        "\n",
        "\n",
        "\n",
        "\n"
      ]
    },
    {
      "cell_type": "code",
      "metadata": {
        "colab": {
          "base_uri": "https://localhost:8080/"
        },
        "id": "0fxf1h3a9_Ac",
        "outputId": "c5bde301-613b-4cac-afb4-d8f73a428ca5"
      },
      "source": [
        "from numpy import random\n",
        "x = random.randint(1, size=(100, 50))\n",
        "#print(x)\n",
        "i = random.randint(1,100)\n",
        "j = random.randint(1,50)\n",
        "x[i][j]=1\n",
        "i = random.randint(1,100)\n",
        "j = random.randint(1,50)\n",
        "x[i][j]=1\n",
        "#print(x)\n",
        "b=0\n",
        "s=0\n",
        "while b==0 :\n",
        " s=s+1\n",
        " b=1  \n",
        " for i in range(1,100):\n",
        "  for j in range(1,50):\n",
        "    if x[i][j]==0 :\n",
        "      b=0\n",
        " for k in range(4):\n",
        "  i = random.randint(1,100)\n",
        "  j = random.randint(1,50)\n",
        "  n=x[i][j]\n",
        "  k = random.randint(1,100)\n",
        "  l = random.randint(1,50)\n",
        "  m=x[k][l]\n",
        "  x[k][l]=n\n",
        "  x[i][j]=m\n",
        "\n",
        " for i in range(100):\n",
        "  for j in range(50):\n",
        "    if x[i][j]==1 :\n",
        "      if random.random() < 0.25:\n",
        "        if (i!=0):\n",
        "          x[i-1][j] = 1\n",
        "      if random.random() < 0.25:\n",
        "        if (j!=0):\n",
        "          x[i][j-1] = 1\n",
        "      if random.random() < 0.25:\n",
        "        if (i!=99):\n",
        "         x[i+1][j] = 1  \n",
        "      if random.random() < 0.25:\n",
        "        if (j!=49):\n",
        "         x[i][j+1] = 1\n",
        "\n",
        "print(x)\n",
        "print(s)"
      ],
      "execution_count": 16,
      "outputs": [
        {
          "output_type": "stream",
          "text": [
            "[[1 1 1 ... 1 1 1]\n",
            " [1 1 1 ... 1 1 1]\n",
            " [1 1 1 ... 1 1 1]\n",
            " ...\n",
            " [1 1 1 ... 1 1 1]\n",
            " [1 1 1 ... 1 1 1]\n",
            " [1 1 1 ... 1 1 1]]\n",
            "51\n"
          ],
          "name": "stdout"
        }
      ]
    },
    {
      "cell_type": "markdown",
      "metadata": {
        "id": "utoOyChsfqqs"
      },
      "source": [
        "Consider the image 1.jpg given to you. Color this image:\n",
        "1. With the most frequently occuring pixel color\n",
        "2. With the least frequently occuring pixel color\n",
        "3. With the mean of all pixel colors\n",
        "**bold text**\n",
        "\n",
        "Submission Format : Submit all the three images in a single directory. "
      ]
    },
    {
      "cell_type": "code",
      "metadata": {
        "id": "UdNn5WCugIHp"
      },
      "source": [
        ""
      ],
      "execution_count": null,
      "outputs": []
    }
  ]
}