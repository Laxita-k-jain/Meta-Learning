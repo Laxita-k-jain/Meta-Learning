{
  "nbformat": 4,
  "nbformat_minor": 0,
  "metadata": {
    "colab": {
      "name": "hand written digit.ipynb",
      "provenance": [],
      "collapsed_sections": [],
      "authorship_tag": "ABX9TyOv/ZpoxaZ3MRjukycZ0C5a",
      "include_colab_link": true
    },
    "kernelspec": {
      "display_name": "Python 3",
      "name": "python3"
    },
    "language_info": {
      "name": "python"
    }
  },
  "cells": [
    {
      "cell_type": "markdown",
      "metadata": {
        "id": "view-in-github",
        "colab_type": "text"
      },
      "source": [
        "<a href=\"https://colab.research.google.com/github/Laxita-k-jain/Meta-Learning/blob/main/hand_written_digit.ipynb\" target=\"_parent\"><img src=\"https://colab.research.google.com/assets/colab-badge.svg\" alt=\"Open In Colab\"/></a>"
      ]
    },
    {
      "cell_type": "code",
      "metadata": {
        "colab": {
          "base_uri": "https://localhost:8080/"
        },
        "id": "dqUPvgasKqc2",
        "outputId": "3e2707da-03e1-449f-b70f-7eef8ef398fb"
      },
      "source": [
        "import tensorflow as tf\n",
        "from matplotlib import pyplot as plt\n",
        "import numpy as np\n",
        "from keras.datasets import mnist\n",
        "objects=mnist\n",
        "(train_img,train_lab),(test_img,test_lab)=objects.load_data()"
      ],
      "execution_count": null,
      "outputs": [
        {
          "output_type": "stream",
          "name": "stdout",
          "text": [
            "Downloading data from https://storage.googleapis.com/tensorflow/tf-keras-datasets/mnist.npz\n",
            "11493376/11490434 [==============================] - 0s 0us/step\n",
            "11501568/11490434 [==============================] - 0s 0us/step\n"
          ]
        }
      ]
    },
    {
      "cell_type": "code",
      "metadata": {
        "colab": {
          "base_uri": "https://localhost:8080/",
          "height": 264
        },
        "id": "6fYD0mLULNqq",
        "outputId": "38e48dfc-75fa-4a1b-c80e-8ebb5fcaf63c"
      },
      "source": [
        "for i in range(20):\n",
        "  plt.subplot(4,5,i+1)\n",
        "  plt.imshow(train_img[i],cmap='gray_r')\n",
        "  plt.title(\"Value : {}\".format(train_lab[i]))\n",
        "  plt.subplots_adjust(hspace=1)\n",
        "  plt.axis('off')\n"
      ],
      "execution_count": null,
      "outputs": [
        {
          "output_type": "display_data",
          "data": {
            "image/png": "[encoded data removed]",
            "text/plain": [
              "<Figure size 432x288 with 20 Axes>"
            ]
          },
          "metadata": {
            "needs_background": "light"
          }
        }
      ]
    },
    {
      "cell_type": "code",
      "metadata": {
        "colab": {
          "base_uri": "https://localhost:8080/"
        },
        "id": "apzTpTuRMd9I",
        "outputId": "c17348df-0985-45e1-99fc-6ac030f0ee21"
      },
      "source": [
        "print('Training images shape : ',train_img.shape)\n",
        "print('Testing images shape : ',test_img.shape)\n",
        "print('How image looks like : ')\n",
        "#print(train_img[0])"
      ],
      "execution_count": null,
      "outputs": [
        {
          "output_type": "stream",
          "name": "stdout",
          "text": [
            "Training images shape :  (60000, 28, 28)\n",
            "Testing images shape :  (10000, 28, 28)\n",
            "How image looks like : \n"
          ]
        }
      ]
    },
    {
      "cell_type": "code",
      "metadata": {
        "id": "-TAivlKcM7wT"
      },
      "source": [
        "#plt.hist(train_img[0].reshape(784),facecolor='green')\n",
        "#plt.title('Pixel vs intensity',fontsize=16)\n",
        "#plt.ylabel('Pixels')\n",
        "#plt.xlabel('Intensity')"
      ],
      "execution_count": null,
      "outputs": []
    },
    {
      "cell_type": "code",
      "metadata": {
        "id": "aqixwYVcNgrn"
      },
      "source": [
        "#normalisation\n",
        "train_img=train_img/255.0\n",
        "test_img=test_img/255.0\n",
        "\n",
        "from keras.models import Sequential\n",
        "from keras.layers import Flatten,Dense\n",
        "model=Sequential()\n",
        "input_layer= Flatten(input_shape=(28,28))\n",
        "model.add(input_layer)\n",
        "hidden_layer1=Dense(512,activation='relu')\n",
        "model.add(hidden_layer1)\n",
        "hidden_layer2=Dense(512,activation='relu')\n",
        "model.add(hidden_layer2)\n",
        "output_layer=Dense(10,activation='softmax')\n",
        "model.add(output_layer)\n",
        "\n",
        "#compiling the sequential model\n",
        "model.compile(optimizer = 'adam', \n",
        "              loss = 'sparse_categorical_crossentropy', \n",
        "              metrics=['accuracy'])"
      ],
      "execution_count": null,
      "outputs": []
    },
    {
      "cell_type": "code",
      "metadata": {
        "id": "VwSur93JOr5s",
        "colab": {
          "base_uri": "https://localhost:8080/"
        },
        "outputId": "dd182b86-ccc2-4046-b602-3b7537d64193"
      },
      "source": [
        "model.fit(train_img,train_lab,epochs=100)\n",
        "model.save('project.h5')\n"
      ],
      "execution_count": null,
      "outputs": [
        {
          "output_type": "stream",
          "name": "stdout",
          "text": [
            "Epoch 1/100\n",
            "1875/1875 [==============================] - 11s 5ms/step - loss: 0.1835 - accuracy: 0.9442\n",
            "Epoch 2/100\n",
            "1875/1875 [==============================] - 10s 5ms/step - loss: 0.0815 - accuracy: 0.9748\n",
            "Epoch 3/100\n",
            "1875/1875 [==============================] - 10s 5ms/step - loss: 0.0551 - accuracy: 0.9830\n",
            "Epoch 4/100\n",
            "1875/1875 [==============================] - 10s 5ms/step - loss: 0.0417 - accuracy: 0.9866\n",
            "Epoch 5/100\n",
            "1875/1875 [==============================] - 10s 5ms/step - loss: 0.0340 - accuracy: 0.9893\n",
            "Epoch 6/100\n",
            "1875/1875 [==============================] - 10s 6ms/step - loss: 0.0308 - accuracy: 0.9902\n",
            "Epoch 7/100\n",
            "1875/1875 [==============================] - 11s 6ms/step - loss: 0.0252 - accuracy: 0.9919\n",
            "Epoch 8/100\n",
            "1875/1875 [==============================] - 10s 6ms/step - loss: 0.0222 - accuracy: 0.9931\n",
            "Epoch 9/100\n",
            "1875/1875 [==============================] - 10s 5ms/step - loss: 0.0189 - accuracy: 0.9941\n",
            "Epoch 10/100\n",
            "1875/1875 [==============================] - 10s 5ms/step - loss: 0.0187 - accuracy: 0.9944\n",
            "Epoch 11/100\n",
            "1875/1875 [==============================] - 10s 5ms/step - loss: 0.0180 - accuracy: 0.9946\n",
            "Epoch 12/100\n",
            "1875/1875 [==============================] - 10s 6ms/step - loss: 0.0171 - accuracy: 0.9950\n",
            "Epoch 13/100\n",
            "1875/1875 [==============================] - 10s 5ms/step - loss: 0.0167 - accuracy: 0.9949\n",
            "Epoch 14/100\n",
            "1875/1875 [==============================] - 10s 6ms/step - loss: 0.0135 - accuracy: 0.9960\n",
            "Epoch 15/100\n",
            "1875/1875 [==============================] - 10s 5ms/step - loss: 0.0137 - accuracy: 0.9960\n",
            "Epoch 16/100\n",
            "1875/1875 [==============================] - 10s 5ms/step - loss: 0.0166 - accuracy: 0.9956\n",
            "Epoch 17/100\n",
            "1875/1875 [==============================] - 10s 6ms/step - loss: 0.0153 - accuracy: 0.9960\n",
            "Epoch 18/100\n",
            "1875/1875 [==============================] - 10s 5ms/step - loss: 0.0121 - accuracy: 0.9969\n",
            "Epoch 19/100\n",
            "1875/1875 [==============================] - 10s 5ms/step - loss: 0.0135 - accuracy: 0.9965\n",
            "Epoch 20/100\n",
            "1875/1875 [==============================] - 10s 5ms/step - loss: 0.0120 - accuracy: 0.9968\n",
            "Epoch 21/100\n",
            "1875/1875 [==============================] - 10s 5ms/step - loss: 0.0121 - accuracy: 0.9972\n",
            "Epoch 22/100\n",
            "1875/1875 [==============================] - 10s 5ms/step - loss: 0.0103 - accuracy: 0.9973\n",
            "Epoch 23/100\n",
            "1875/1875 [==============================] - 10s 5ms/step - loss: 0.0142 - accuracy: 0.9970\n",
            "Epoch 24/100\n",
            "1875/1875 [==============================] - 10s 5ms/step - loss: 0.0086 - accuracy: 0.9980\n",
            "Epoch 25/100\n",
            "1875/1875 [==============================] - 10s 5ms/step - loss: 0.0132 - accuracy: 0.9969\n",
            "Epoch 26/100\n",
            "1875/1875 [==============================] - 10s 5ms/step - loss: 0.0107 - accuracy: 0.9974\n",
            "Epoch 27/100\n",
            "1875/1875 [==============================] - 10s 6ms/step - loss: 0.0138 - accuracy: 0.9971\n",
            "Epoch 28/100\n",
            "1875/1875 [==============================] - 10s 6ms/step - loss: 0.0115 - accuracy: 0.9976\n",
            "Epoch 29/100\n",
            "1875/1875 [==============================] - 10s 6ms/step - loss: 0.0096 - accuracy: 0.9979\n",
            "Epoch 30/100\n",
            "1875/1875 [==============================] - 10s 6ms/step - loss: 0.0122 - accuracy: 0.9976\n",
            "Epoch 31/100\n",
            "1875/1875 [==============================] - 10s 6ms/step - loss: 0.0132 - accuracy: 0.9974\n",
            "Epoch 32/100\n",
            "1875/1875 [==============================] - 10s 6ms/step - loss: 0.0105 - accuracy: 0.9976\n",
            "Epoch 33/100\n",
            "1875/1875 [==============================] - 10s 6ms/step - loss: 0.0094 - accuracy: 0.9980\n",
            "Epoch 34/100\n",
            "1875/1875 [==============================] - 10s 6ms/step - loss: 0.0125 - accuracy: 0.9976\n",
            "Epoch 35/100\n",
            "1875/1875 [==============================] - 10s 5ms/step - loss: 0.0070 - accuracy: 0.9985\n",
            "Epoch 36/100\n",
            "1875/1875 [==============================] - 10s 6ms/step - loss: 0.0137 - accuracy: 0.9976\n",
            "Epoch 37/100\n",
            "1875/1875 [==============================] - 10s 5ms/step - loss: 0.0068 - accuracy: 0.9986\n",
            "Epoch 38/100\n",
            "1875/1875 [==============================] - 10s 6ms/step - loss: 0.0155 - accuracy: 0.9977\n",
            "Epoch 39/100\n",
            "1875/1875 [==============================] - 10s 6ms/step - loss: 0.0077 - accuracy: 0.9987\n",
            "Epoch 40/100\n",
            "1875/1875 [==============================] - 10s 6ms/step - loss: 0.0101 - accuracy: 0.9979\n",
            "Epoch 41/100\n",
            "1875/1875 [==============================] - 10s 5ms/step - loss: 0.0091 - accuracy: 0.9982\n",
            "Epoch 42/100\n",
            "1875/1875 [==============================] - 10s 5ms/step - loss: 0.0109 - accuracy: 0.9982\n",
            "Epoch 43/100\n",
            "1875/1875 [==============================] - 10s 5ms/step - loss: 0.0085 - accuracy: 0.9985\n",
            "Epoch 44/100\n",
            "1875/1875 [==============================] - 10s 5ms/step - loss: 0.0096 - accuracy: 0.9985\n",
            "Epoch 45/100\n",
            "1875/1875 [==============================] - 10s 6ms/step - loss: 0.0140 - accuracy: 0.9978\n",
            "Epoch 46/100\n",
            "1875/1875 [==============================] - 10s 6ms/step - loss: 0.0068 - accuracy: 0.9986\n",
            "Epoch 47/100\n",
            "1875/1875 [==============================] - 10s 5ms/step - loss: 0.0083 - accuracy: 0.9987\n",
            "Epoch 48/100\n",
            "1875/1875 [==============================] - 10s 5ms/step - loss: 0.0129 - accuracy: 0.9980\n",
            "Epoch 49/100\n",
            "1875/1875 [==============================] - 10s 6ms/step - loss: 0.0096 - accuracy: 0.9985\n",
            "Epoch 50/100\n",
            "1875/1875 [==============================] - 10s 6ms/step - loss: 0.0108 - accuracy: 0.9982\n",
            "Epoch 51/100\n",
            "1875/1875 [==============================] - 10s 5ms/step - loss: 0.0101 - accuracy: 0.9984\n",
            "Epoch 52/100\n",
            "1875/1875 [==============================] - 10s 5ms/step - loss: 0.0082 - accuracy: 0.9984\n",
            "Epoch 53/100\n",
            "1875/1875 [==============================] - 10s 6ms/step - loss: 0.0089 - accuracy: 0.9986\n",
            "Epoch 54/100\n",
            "1875/1875 [==============================] - 10s 6ms/step - loss: 0.0105 - accuracy: 0.9984\n",
            "Epoch 55/100\n",
            "1875/1875 [==============================] - 10s 5ms/step - loss: 0.0099 - accuracy: 0.9985\n",
            "Epoch 56/100\n",
            "1875/1875 [==============================] - 10s 5ms/step - loss: 0.0087 - accuracy: 0.9986\n",
            "Epoch 57/100\n",
            "1875/1875 [==============================] - 10s 5ms/step - loss: 0.0078 - accuracy: 0.9987\n",
            "Epoch 58/100\n",
            "1875/1875 [==============================] - 10s 5ms/step - loss: 0.0103 - accuracy: 0.9987\n",
            "Epoch 59/100\n",
            "1875/1875 [==============================] - 10s 5ms/step - loss: 0.0090 - accuracy: 0.9986\n",
            "Epoch 60/100\n",
            "1875/1875 [==============================] - 10s 5ms/step - loss: 0.0091 - accuracy: 0.9987\n",
            "Epoch 61/100\n",
            "1875/1875 [==============================] - 10s 6ms/step - loss: 0.0087 - accuracy: 0.9987\n",
            "Epoch 62/100\n",
            "1875/1875 [==============================] - 10s 6ms/step - loss: 0.0111 - accuracy: 0.9987\n",
            "Epoch 63/100\n",
            "1875/1875 [==============================] - 10s 6ms/step - loss: 0.0153 - accuracy: 0.9984\n",
            "Epoch 64/100\n",
            "1875/1875 [==============================] - 10s 6ms/step - loss: 0.0109 - accuracy: 0.9984\n",
            "Epoch 65/100\n",
            "1875/1875 [==============================] - 10s 6ms/step - loss: 0.0072 - accuracy: 0.9989\n",
            "Epoch 66/100\n",
            "1875/1875 [==============================] - 11s 6ms/step - loss: 0.0108 - accuracy: 0.9985\n",
            "Epoch 67/100\n",
            "1875/1875 [==============================] - 10s 6ms/step - loss: 0.0106 - accuracy: 0.9985\n",
            "Epoch 68/100\n",
            "1875/1875 [==============================] - 10s 6ms/step - loss: 0.0103 - accuracy: 0.9987\n",
            "Epoch 69/100\n",
            "1875/1875 [==============================] - 10s 6ms/step - loss: 0.0072 - accuracy: 0.9989\n",
            "Epoch 70/100\n",
            "1875/1875 [==============================] - 10s 6ms/step - loss: 0.0048 - accuracy: 0.9993\n",
            "Epoch 71/100\n",
            "1875/1875 [==============================] - 10s 6ms/step - loss: 0.0115 - accuracy: 0.9987\n",
            "Epoch 72/100\n",
            "1875/1875 [==============================] - 10s 6ms/step - loss: 0.0099 - accuracy: 0.9987\n",
            "Epoch 73/100\n",
            "1875/1875 [==============================] - 10s 5ms/step - loss: 0.0107 - accuracy: 0.9987\n",
            "Epoch 74/100\n",
            "1875/1875 [==============================] - 10s 5ms/step - loss: 0.0089 - accuracy: 0.9988\n",
            "Epoch 75/100\n",
            "1875/1875 [==============================] - 10s 6ms/step - loss: 0.0069 - accuracy: 0.9989\n",
            "Epoch 76/100\n",
            "1875/1875 [==============================] - 10s 6ms/step - loss: 0.0123 - accuracy: 0.9987\n",
            "Epoch 77/100\n",
            "1875/1875 [==============================] - 10s 6ms/step - loss: 0.0054 - accuracy: 0.9993\n",
            "Epoch 78/100\n",
            "1875/1875 [==============================] - 10s 6ms/step - loss: 0.0141 - accuracy: 0.9985\n",
            "Epoch 79/100\n",
            "1875/1875 [==============================] - 10s 6ms/step - loss: 0.0102 - accuracy: 0.9988\n",
            "Epoch 80/100\n",
            "1875/1875 [==============================] - 10s 5ms/step - loss: 0.0073 - accuracy: 0.9992\n",
            "Epoch 81/100\n",
            "1875/1875 [==============================] - 10s 6ms/step - loss: 0.0082 - accuracy: 0.9990\n",
            "Epoch 82/100\n",
            "1875/1875 [==============================] - 10s 5ms/step - loss: 0.0101 - accuracy: 0.9990\n",
            "Epoch 83/100\n",
            "1875/1875 [==============================] - 10s 6ms/step - loss: 0.0082 - accuracy: 0.9989\n",
            "Epoch 84/100\n",
            "1875/1875 [==============================] - 10s 6ms/step - loss: 0.0065 - accuracy: 0.9990\n",
            "Epoch 85/100\n",
            "1875/1875 [==============================] - 10s 6ms/step - loss: 0.0098 - accuracy: 0.9990\n",
            "Epoch 86/100\n",
            "1875/1875 [==============================] - 10s 6ms/step - loss: 0.0094 - accuracy: 0.9991\n",
            "Epoch 87/100\n",
            "1875/1875 [==============================] - 10s 6ms/step - loss: 0.0109 - accuracy: 0.9989\n",
            "Epoch 88/100\n",
            "1875/1875 [==============================] - 10s 6ms/step - loss: 0.0061 - accuracy: 0.9994\n",
            "Epoch 89/100\n",
            "1875/1875 [==============================] - 10s 6ms/step - loss: 0.0108 - accuracy: 0.9988\n",
            "Epoch 90/100\n",
            "1875/1875 [==============================] - 10s 6ms/step - loss: 0.0052 - accuracy: 0.9993\n",
            "Epoch 91/100\n",
            "1875/1875 [==============================] - 10s 6ms/step - loss: 0.0092 - accuracy: 0.9991\n",
            "Epoch 92/100\n",
            "1875/1875 [==============================] - 11s 6ms/step - loss: 0.0112 - accuracy: 0.9989\n",
            "Epoch 93/100\n",
            "1875/1875 [==============================] - 11s 6ms/step - loss: 0.0092 - accuracy: 0.9992\n",
            "Epoch 94/100\n",
            "1875/1875 [==============================] - 11s 6ms/step - loss: 0.0113 - accuracy: 0.9988\n",
            "Epoch 95/100\n",
            "1875/1875 [==============================] - 11s 6ms/step - loss: 0.0100 - accuracy: 0.9989\n",
            "Epoch 96/100\n",
            "1875/1875 [==============================] - 10s 6ms/step - loss: 0.0079 - accuracy: 0.9992\n",
            "Epoch 97/100\n",
            "1875/1875 [==============================] - 11s 6ms/step - loss: 0.0095 - accuracy: 0.9991\n",
            "Epoch 98/100\n",
            "1875/1875 [==============================] - 11s 6ms/step - loss: 0.0079 - accuracy: 0.9992\n",
            "Epoch 99/100\n",
            "1875/1875 [==============================] - 11s 6ms/step - loss: 0.0089 - accuracy: 0.9992\n",
            "Epoch 100/100\n",
            "1875/1875 [==============================] - 10s 6ms/step - loss: 0.0110 - accuracy: 0.9991\n"
          ]
        }
      ]
    },
    {
      "cell_type": "code",
      "metadata": {
        "colab": {
          "base_uri": "https://localhost:8080/"
        },
        "id": "mG6TzituZBo2",
        "outputId": "83f64dba-0d6a-4879-8115-7a4cef10d61f"
      },
      "source": [
        "loss_and_acc=model.evaluate(test_img,test_lab,verbose=2);\n",
        "print(\"Test Loss\", loss_and_acc[0])\n",
        "print(\"Test Accuracy\", loss_and_acc[1])"
      ],
      "execution_count": null,
      "outputs": [
        {
          "output_type": "stream",
          "name": "stdout",
          "text": [
            "313/313 - 1s - loss: 0.4006 - accuracy: 0.9832\n",
            "Test Loss 0.40055200457572937\n",
            "Test Accuracy 0.9832000136375427\n"
          ]
        }
      ]
    },
    {
      "cell_type": "code",
      "metadata": {
        "id": "aeWiy-ayZy2U"
      },
      "source": [
        "# make a prediction for a new image.\n",
        "from keras.preprocessing.image import load_img\n",
        "from keras.preprocessing.image import img_to_array\n",
        "from keras.models import load_model\n",
        " \n",
        "# load and prepare the image\n",
        "def load_image(filename):\n",
        "\t# load the image\n",
        "\timg = load_img(filename, grayscale=True, target_size=(28, 28))\n",
        "\t# convert to array\n",
        "\timg = img_to_array(img)\n",
        "\t# reshape into a single sample with 1 channel\n",
        "\timg = img.reshape(1, 28, 28)\n",
        "\t# prepare pixel data\n",
        "\timg = img.astype('float')\n",
        "\timg = img / 255.0 \n",
        "\treturn img"
      ],
      "execution_count": null,
      "outputs": []
    },
    {
      "cell_type": "code",
      "metadata": {
        "colab": {
          "resources": {
            "http://localhost:8080/nbextensions/google.colab/files.js": {
              "data": "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",
              "ok": true,
              "headers": [
                [
                  "content-type",
                  "application/javascript"
                ]
              ],
              "status": 200,
              "status_text": ""
            }
          },
          "base_uri": "https://localhost:8080/",
          "height": 73
        },
        "id": "EVYbVDCFb_EM",
        "outputId": "a19b46c4-8ef0-421f-adb9-5c940652f978"
      },
      "source": [
        "from google.colab import files\n",
        "uploaded = files.upload()"
      ],
      "execution_count": null,
      "outputs": [
        {
          "output_type": "display_data",
          "data": {
            "text/html": [
              "\n",
              "     <input type=\"file\" id=\"files-430fb990-5a1c-43b3-8469-3aee2c436154\" name=\"files[]\" multiple disabled\n",
              "        style=\"border:none\" />\n",
              "     <output id=\"result-430fb990-5a1c-43b3-8469-3aee2c436154\">\n",
              "      Upload widget is only available when the cell has been executed in the\n",
              "      current browser session. Please rerun this cell to enable.\n",
              "      </output>\n",
              "      <script src=\"/nbextensions/google.colab/files.js\"></script> "
            ],
            "text/plain": [
              "<IPython.core.display.HTML object>"
            ]
          },
          "metadata": {}
        },
        {
          "output_type": "stream",
          "name": "stdout",
          "text": [
            "Saving 4.jpeg to 4.jpeg\n"
          ]
        }
      ]
    },
    {
      "cell_type": "code",
      "metadata": {
        "colab": {
          "base_uri": "https://localhost:8080/",
          "height": 264
        },
        "id": "g5z7QCn2ktjC",
        "outputId": "49a9a108-5701-41bc-d388-8c69c22b6237"
      },
      "source": [
        "from IPython.display import Image\n",
        "Image('4.jpeg')"
      ],
      "execution_count": null,
      "outputs": [
        {
          "output_type": "execute_result",
          "data": {
            "image/jpeg": "[encoded data removed]",
            "text/plain": [
              "<IPython.core.display.Image object>"
            ]
          },
          "metadata": {},
          "execution_count": 2
        }
      ]
    },
    {
      "cell_type": "code",
      "metadata": {
        "colab": {
          "base_uri": "https://localhost:8080/",
          "height": 1000
        },
        "id": "wNSYYuNybBH1",
        "outputId": "a73a4fc5-0e2e-493a-cb51-b8968c39fb65"
      },
      "source": [
        "img1 = load_image('4.jpeg')\n",
        "print(1-img1)\n",
        "print(test_img[0])\n",
        "plt.imshow(1-img1[0],cmap='gray_r')\n",
        "prediction=model.predict(1-img1)\n",
        "print('Predicted value : ',np.argmax(prediction[0]))\n",
        "print(prediction)\n"
      ],
      "execution_count": null,
      "outputs": [
        {
          "output_type": "stream",
          "name": "stdout",
          "text": [
            "[[[0.03137255 0.03137255 0.03137255 0.03137255 0.03137255 0.03137255\n",
            "   0.03137255 0.03137255 0.03137255 0.03137255 0.03137255 0.03137255\n",
            "   0.03137255 0.02352941 0.03137255 0.03137255 0.03137255 0.03137255\n",
            "   0.03137255 0.03137255 0.03137255 0.03137255 0.03137255 0.03137255\n",
            "   0.03137255 0.03137255 0.03137255 0.03137255]\n",
            "  [0.03137255 0.03137255 0.03137255 0.03137255 0.03137255 0.03137255\n",
            "   0.03137255 0.03137255 0.04705882 0.03137255 0.38431373 0.02352941\n",
            "   1.         0.03137255 0.04313725 0.01960784 0.76470588 0.99215686\n",
            "   0.02352941 0.03529412 0.03137255 0.03137255 0.03137255 0.03137255\n",
            "   0.03137255 0.03137255 0.03137255 0.03137255]\n",
            "  [0.03137255 0.         0.         0.         0.         0.\n",
            "   0.         0.         0.01568627 0.         0.00784314 0.01568627\n",
            "   0.         0.         0.         0.         0.         0.\n",
            "   0.         0.         0.         0.         0.         0.\n",
            "   0.         0.         0.         0.03921569]\n",
            "  [0.03137255 0.         0.         0.         0.         0.\n",
            "   0.         0.         0.         0.         0.         0.\n",
            "   0.         0.         0.         0.         0.         0.\n",
            "   0.         0.         0.         0.         0.         0.\n",
            "   0.         0.         0.         0.03137255]\n",
            "  [0.03137255 0.         0.         0.         0.         0.\n",
            "   0.         0.         0.         0.         0.         0.\n",
            "   0.         0.         0.         0.         0.         0.\n",
            "   0.         0.         0.         0.         0.         0.\n",
            "   0.         0.         0.         0.03137255]\n",
            "  [0.03137255 0.         0.         0.         0.         0.\n",
            "   0.         0.         0.         0.         0.         0.\n",
            "   0.         0.         0.         0.         0.         0.\n",
            "   0.         0.         0.         0.         0.         0.\n",
            "   0.         0.         0.         0.03137255]\n",
            "  [0.03137255 0.         0.         0.         0.         0.\n",
            "   0.         0.         0.         0.         0.         0.\n",
            "   0.         0.         0.         0.         0.         0.\n",
            "   0.         0.         0.         0.00392157 0.         0.\n",
            "   0.         0.         0.         0.03137255]\n",
            "  [0.03137255 0.         0.         0.         0.         0.\n",
            "   0.         0.         0.00392157 0.09803922 0.74117647 0.50588235\n",
            "   0.12156863 0.         0.         0.         0.         0.\n",
            "   0.         0.         0.03529412 0.0627451  0.30196078 0.03921569\n",
            "   0.         0.         0.         0.03137255]\n",
            "  [0.03137255 0.         0.         0.         0.         0.\n",
            "   0.         0.00392157 0.06666667 0.9254902  0.96470588 0.6627451\n",
            "   0.00784314 0.         0.         0.         0.         0.\n",
            "   0.         0.01568627 0.03921569 0.87843137 0.96078431 0.13333333\n",
            "   0.         0.         0.         0.03137255]\n",
            "  [0.03137255 0.         0.         0.         0.         0.\n",
            "   0.         0.09411765 0.74901961 1.         0.58823529 0.\n",
            "   0.         0.         0.         0.         0.         0.\n",
            "   0.00392157 0.00784314 0.5254902  1.         0.36862745 0.\n",
            "   0.         0.         0.         0.03137255]\n",
            "  [0.03137255 0.         0.         0.         0.         0.\n",
            "   0.00392157 0.59215686 0.99215686 0.38823529 0.00784314 0.\n",
            "   0.         0.         0.         0.         0.         0.\n",
            "   0.17254902 0.89803922 0.98039216 0.37647059 0.01176471 0.\n",
            "   0.         0.         0.         0.03137255]\n",
            "  [0.03137255 0.         0.         0.         0.         0.\n",
            "   0.00392157 1.         0.79607843 0.03921569 0.         0.\n",
            "   0.         0.         0.         0.         0.         0.\n",
            "   0.4        1.         0.62352941 0.         0.         0.\n",
            "   0.         0.         0.         0.03137255]\n",
            "  [0.03137255 0.         0.         0.         0.         0.\n",
            "   0.         0.99607843 0.69803922 0.00784314 0.01176471 0.\n",
            "   0.         0.         0.         0.         0.03529412 0.51372549\n",
            "   0.9372549  0.98823529 0.01568627 0.         0.         0.\n",
            "   0.         0.         0.         0.03137255]\n",
            "  [0.03137255 0.         0.         0.         0.         0.\n",
            "   0.         0.99215686 0.99607843 0.75294118 0.68627451 0.26666667\n",
            "   0.2745098  0.2745098  0.2745098  0.52156863 0.76862745 0.99607843\n",
            "   0.99215686 0.6627451  0.         0.         0.         0.\n",
            "   0.         0.         0.         0.03137255]\n",
            "  [0.03137255 0.         0.         0.         0.         0.\n",
            "   0.02745098 0.90980392 0.98431373 1.         1.         1.\n",
            "   0.99607843 0.99607843 0.99607843 1.         0.99607843 0.99607843\n",
            "   0.8627451  0.1372549  0.         0.         0.         0.\n",
            "   0.         0.         0.         0.03137255]\n",
            "  [0.03137255 0.         0.         0.         0.         0.\n",
            "   0.         0.05882353 0.25490196 0.52156863 1.         0.9254902\n",
            "   0.54509804 0.5372549  0.5372549  0.16862745 0.99607843 0.99215686\n",
            "   0.61568627 0.         0.         0.         0.         0.\n",
            "   0.         0.         0.         0.03137255]\n",
            "  [0.03137255 0.         0.         0.         0.         0.\n",
            "   0.         0.         0.         0.         0.         0.\n",
            "   0.         0.         0.         0.1372549  0.99215686 0.81960784\n",
            "   0.09411765 0.         0.         0.         0.         0.\n",
            "   0.         0.         0.         0.03137255]\n",
            "  [0.03137255 0.         0.         0.         0.         0.\n",
            "   0.         0.         0.         0.         0.         0.\n",
            "   0.         0.         0.33333333 1.         0.9372549  0.19607843\n",
            "   0.         0.         0.         0.         0.         0.\n",
            "   0.         0.         0.         0.03137255]\n",
            "  [0.03137255 0.         0.         0.         0.         0.\n",
            "   0.         0.         0.         0.         0.         0.\n",
            "   0.         0.         0.61960784 0.99607843 0.65098039 0.00392157\n",
            "   0.         0.         0.         0.         0.         0.\n",
            "   0.         0.         0.         0.03137255]\n",
            "  [0.03137255 0.         0.         0.         0.         0.\n",
            "   0.         0.         0.         0.         0.         0.\n",
            "   0.         0.         0.91764706 0.95294118 0.17647059 0.\n",
            "   0.         0.         0.         0.         0.         0.\n",
            "   0.         0.         0.         0.03137255]\n",
            "  [0.03137255 0.         0.         0.         0.         0.\n",
            "   0.         0.         0.         0.         0.         0.\n",
            "   0.         0.4        0.99607843 0.90588235 0.         0.\n",
            "   0.         0.         0.         0.         0.         0.\n",
            "   0.         0.         0.         0.03137255]\n",
            "  [0.03137255 0.         0.         0.         0.         0.\n",
            "   0.         0.         0.         0.         0.         0.\n",
            "   0.         0.82352941 0.98823529 0.62352941 0.         0.05098039\n",
            "   0.11372549 0.         0.         0.         0.         0.\n",
            "   0.         0.         0.         0.03137255]\n",
            "  [0.03137255 0.         0.         0.         0.         0.\n",
            "   0.         0.         0.         0.         0.         0.\n",
            "   0.         0.81960784 0.99607843 0.60392157 0.34901961 0.79607843\n",
            "   0.63529412 0.         0.         0.         0.         0.\n",
            "   0.         0.         0.         0.03137255]\n",
            "  [0.03137255 0.         0.         0.         0.         0.\n",
            "   0.         0.         0.         0.         0.         0.\n",
            "   0.         0.81960784 0.99607843 1.         1.         0.60392157\n",
            "   0.11372549 0.         0.         0.         0.         0.\n",
            "   0.         0.         0.         0.03137255]\n",
            "  [0.03137255 0.         0.         0.         0.         0.\n",
            "   0.         0.         0.         0.         0.         0.\n",
            "   0.         0.24705882 0.74117647 0.49803922 0.09411765 0.02745098\n",
            "   0.         0.         0.         0.         0.         0.\n",
            "   0.         0.         0.         0.03137255]\n",
            "  [0.03137255 0.         0.         0.         0.         0.\n",
            "   0.         0.         0.         0.         0.         0.\n",
            "   0.         0.         0.         0.         0.         0.\n",
            "   0.         0.         0.         0.         0.         0.\n",
            "   0.         0.         0.         0.03137255]\n",
            "  [0.03137255 0.         0.         0.         0.         0.\n",
            "   0.         0.         0.         0.         0.         0.\n",
            "   0.         0.         0.         0.         0.         0.\n",
            "   0.         0.         0.         0.         0.         0.\n",
            "   0.         0.         0.         0.03137255]\n",
            "  [0.03137255 0.03137255 0.03137255 0.03137255 0.03137255 0.03137255\n",
            "   0.03137255 0.03137255 0.03137255 0.03137255 0.03137255 0.03137255\n",
            "   0.03137255 0.03137255 0.03137255 0.03137255 0.03137255 0.03137255\n",
            "   0.03137255 0.03137255 0.03137255 0.03137255 0.03137255 0.03137255\n",
            "   0.03137255 0.03137255 0.03137255 0.03137255]]]\n"
          ]
        },
        {
          "output_type": "stream",
          "name": "stderr",
          "text": [
            "/usr/local/lib/python3.7/dist-packages/keras_preprocessing/image/utils.py:107: UserWarning: grayscale is deprecated. Please use color_mode = \"grayscale\"\n",
            "  warnings.warn('grayscale is deprecated. Please use '\n"
          ]
        },
        {
          "output_type": "error",
          "ename": "NameError",
          "evalue": "ignored",
          "traceback": [
            "\u001b[0;31m---------------------------------------------------------------------------\u001b[0m",
            "\u001b[0;31mNameError\u001b[0m                                 Traceback (most recent call last)",
            "\u001b[0;32m<ipython-input-5-e643157876aa>\u001b[0m in \u001b[0;36m<module>\u001b[0;34m()\u001b[0m\n\u001b[1;32m      1\u001b[0m \u001b[0mimg1\u001b[0m \u001b[0;34m=\u001b[0m \u001b[0mload_image\u001b[0m\u001b[0;34m(\u001b[0m\u001b[0;34m'4.jpeg'\u001b[0m\u001b[0;34m)\u001b[0m\u001b[0;34m\u001b[0m\u001b[0;34m\u001b[0m\u001b[0m\n\u001b[1;32m      2\u001b[0m \u001b[0mprint\u001b[0m\u001b[0;34m(\u001b[0m\u001b[0;36m1\u001b[0m\u001b[0;34m-\u001b[0m\u001b[0mimg1\u001b[0m\u001b[0;34m)\u001b[0m\u001b[0;34m\u001b[0m\u001b[0;34m\u001b[0m\u001b[0m\n\u001b[0;32m----> 3\u001b[0;31m \u001b[0mprint\u001b[0m\u001b[0;34m(\u001b[0m\u001b[0mtest_img\u001b[0m\u001b[0;34m[\u001b[0m\u001b[0;36m0\u001b[0m\u001b[0;34m]\u001b[0m\u001b[0;34m)\u001b[0m\u001b[0;34m\u001b[0m\u001b[0;34m\u001b[0m\u001b[0m\n\u001b[0m\u001b[1;32m      4\u001b[0m \u001b[0mplt\u001b[0m\u001b[0;34m.\u001b[0m\u001b[0mimshow\u001b[0m\u001b[0;34m(\u001b[0m\u001b[0;36m1\u001b[0m\u001b[0;34m-\u001b[0m\u001b[0mimg1\u001b[0m\u001b[0;34m[\u001b[0m\u001b[0;36m0\u001b[0m\u001b[0;34m]\u001b[0m\u001b[0;34m,\u001b[0m\u001b[0mcmap\u001b[0m\u001b[0;34m=\u001b[0m\u001b[0;34m'gray_r'\u001b[0m\u001b[0;34m)\u001b[0m\u001b[0;34m\u001b[0m\u001b[0;34m\u001b[0m\u001b[0m\n\u001b[1;32m      5\u001b[0m \u001b[0mprediction\u001b[0m\u001b[0;34m=\u001b[0m\u001b[0mmodel\u001b[0m\u001b[0;34m.\u001b[0m\u001b[0mpredict\u001b[0m\u001b[0;34m(\u001b[0m\u001b[0;36m1\u001b[0m\u001b[0;34m-\u001b[0m\u001b[0mimg1\u001b[0m\u001b[0;34m)\u001b[0m\u001b[0;34m\u001b[0m\u001b[0;34m\u001b[0m\u001b[0m\n",
            "\u001b[0;31mNameError\u001b[0m: name 'test_img' is not defined"
          ]
        }
      ]
    },
    {
      "cell_type": "code",
      "metadata": {
        "colab": {
          "base_uri": "https://localhost:8080/",
          "height": 332
        },
        "id": "3hYejc3-mt6N",
        "outputId": "2ec05245-23e4-4c43-987b-8a8b44fd49ed"
      },
      "source": [
        "# plt.imshow('a9 (1).png',cmap='gray_r')\n",
        "# plt.title('Actual Value: {}'.format(test_lab[7]))\n",
        "prediction=model.predict(test_img)\n",
        "# plt.axis('off')\n",
        "print('Predicted Value: ',np.argmax(prediction[0]))\n",
        "print(prediction[0])\n",
        "from matplotlib import pyplot as plt\n",
        "plt.imshow(test_img[0],cmap='gray_r')\n"
      ],
      "execution_count": null,
      "outputs": [
        {
          "name": "stdout",
          "output_type": "stream",
          "text": [
            "Predicted Value:  7\n",
            "[5.1819898e-19 1.6979346e-20 6.4724127e-13 3.9889909e-13 1.0746337e-22\n",
            " 8.9073264e-23 1.2389257e-38 1.0000000e+00 4.8150444e-18 1.3162260e-08]\n"
          ]
        },
        {
          "data": {
            "text/plain": [
              "<matplotlib.image.AxesImage at 0x7f062ea18290>"
            ]
          },
          "execution_count": 143,
          "metadata": {},
          "output_type": "execute_result"
        },
        {
          "data": {
            "image/png": "[encoded data removed]",
            "text/plain": [
              "<Figure size 432x288 with 1 Axes>"
            ]
          },
          "metadata": {},
          "output_type": "display_data"
        }
      ]
    }
  ]
}